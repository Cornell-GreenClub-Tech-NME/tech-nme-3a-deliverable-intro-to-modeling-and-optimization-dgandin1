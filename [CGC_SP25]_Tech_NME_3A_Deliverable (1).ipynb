{
  "cells": [
    {
      "cell_type": "markdown",
      "metadata": {
        "id": "WOAEPfv7fnin"
      },
      "source": [
        "**Practice Linear Programming**\n",
        "\n",
        "Feel free to refer to the demo done in lecture: https://colab.research.google.com/drive/10yYw97pNP6SoNrXjHcijKnDB7oKyLkv5?usp=sharing\n"
      ]
    },
    {
      "cell_type": "markdown",
      "metadata": {
        "id": "u90UTfejgQzM"
      },
      "source": [
        "\n",
        "Suppose Cornell dinning halls produce **80 kg of food waste per day**.\n",
        "\n",
        "They can either:\n",
        "\n",
        "1. **Compost** it, with a cost of $0.12/kg and the impact of 2 points per kg (environmental impact :)\n",
        "\n",
        "2. **Donate** it to a local food bank with the cost of $0.25/kg and impact of 5 points per kg (social impact :)\n",
        "\n",
        "However Cornell dinning halls must 1. process **all 80 kg** of food waste every day 2. stay within a **$15 budget**\n",
        "\n",
        "Goal: Use Linear Programming to decide how much food to compost and how much to donate in order to **maximize total impact**.\n",
        "\n",
        "Please make sure you answer the following:\n",
        "  - How many kg of food to **compost**\n",
        "  - How many kg of food to **donate**\n",
        "  - What is the **total impact score**\n"
      ]
    },
    {
      "cell_type": "code",
      "execution_count": 5,
      "metadata": {
        "id": "ZnLarxm5g1QU"
      },
      "outputs": [
        {
          "name": "stdout",
          "output_type": "stream",
          "text": [
            "\n",
            "--- Optimal Food Waste Management ---\n",
            "Amount to compost: 38.46 kg\n",
            "Amount to donate: 41.54 kg\n",
            "Total impact score: 284.62\n"
          ]
        }
      ],
      "source": [
        "from scipy.optimize import linprog\n",
        "\n",
        "#compost, donate\n",
        "objective = [-2, -5]\n",
        "\n",
        "constraint_coeffs_ub = [\n",
        "    [.12, .25], #budget constraints\n",
        "]\n",
        "\n",
        "constraint_coeffs_eq = [\n",
        "    [1, 1]  # total food waste: 1*c + 1*d = 80\n",
        "]\n",
        "\n",
        "constraint_limits_ub = [15]\n",
        "\n",
        "# constraint limits for equality constraints\n",
        "constraint_limits_eq = [80]\n",
        "\n",
        "c_bounds = (0, None)\n",
        "d_bounds = (0, None) #can't be negative\n",
        "\n",
        "solution = linprog(objective,\n",
        "                   A_ub=constraint_coeffs_ub,\n",
        "                   b_ub=constraint_limits_ub,\n",
        "                   A_eq=constraint_coeffs_eq,\n",
        "                   b_eq=constraint_limits_eq,\n",
        "                   bounds=[c_bounds, d_bounds],\n",
        "                   method='highs')\n",
        "print(\"\\n--- Optimal Food Waste Management ---\")\n",
        "print(f\"Amount to compost: {compost_kg:.2f} kg\")\n",
        "print(f\"Amount to donate: {donate_kg:.2f} kg\")\n",
        "print(f\"Total impact score: {total_impact:.2f}\")"
      ]
    },
    {
      "cell_type": "code",
      "execution_count": null,
      "metadata": {
        "id": "s5o8rVH3g7PI"
      },
      "outputs": [],
      "source": []
    },
    {
      "cell_type": "markdown",
      "metadata": {
        "id": "MVYjxd-fijPQ"
      },
      "source": [
        "Reflection (Required)\n",
        "\n",
        "**How can linear programming be incorporated into projects you are currently working on or might work on in the future in GreenClub?**  "
      ]
    },
    {
      "cell_type": "markdown",
      "metadata": {
        "id": "65ynsxbvit9S"
      },
      "source": [
        "Response: I am currently working on attempting to quantify the amount of compost Cornell generates and its environmental impact, eventually proposing solutions on how Cornell could improve its composting efforts. Linear programming could be very relevent to the improvement stage, as we could do something very similar to this project. By attempting to quantify the financial cost and/or environmental benefits of compsting, we could use linear programming to model the ideal way Cornell could compsting as well as quantifying the cost and benefits. This would give us a straightfoward way to come up with ideal solutions that may not be obvious. Overall, linear programming can be very helpful for finding the optimal path to take when there is a constraint you must follow. There are numerous aspects of this that I could utilize in GreenClub and in my future carrear. "
      ]
    },
    {
      "cell_type": "markdown",
      "metadata": {},
      "source": []
    }
  ],
  "metadata": {
    "colab": {
      "provenance": []
    },
    "kernelspec": {
      "display_name": "base",
      "language": "python",
      "name": "python3"
    },
    "language_info": {
      "codemirror_mode": {
        "name": "ipython",
        "version": 3
      },
      "file_extension": ".py",
      "mimetype": "text/x-python",
      "name": "python",
      "nbconvert_exporter": "python",
      "pygments_lexer": "ipython3",
      "version": "3.12.4"
    }
  },
  "nbformat": 4,
  "nbformat_minor": 0
}
